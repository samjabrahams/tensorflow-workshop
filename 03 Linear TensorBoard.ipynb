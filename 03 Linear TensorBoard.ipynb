{
 "cells": [
  {
   "cell_type": "code",
   "execution_count": 1,
   "metadata": {
    "collapsed": true
   },
   "outputs": [],
   "source": [
    "# Python > 3, TensorFlow > 1.0\n",
    "import tensorflow as tf\n",
    "import numpy as np\n",
    "import matplotlib.pyplot as plt"
   ]
  },
  {
   "cell_type": "code",
   "execution_count": 2,
   "metadata": {
    "collapsed": true
   },
   "outputs": [],
   "source": [
    "%matplotlib inline"
   ]
  },
  {
   "cell_type": "markdown",
   "metadata": {},
   "source": [
    "# Before adding in summary"
   ]
  },
  {
   "cell_type": "code",
   "execution_count": 3,
   "metadata": {
    "collapsed": true
   },
   "outputs": [],
   "source": [
    "x = np.random.normal(scale=1.5, size=[20])\n",
    "b = np.random.normal(scale=2, size=[20])\n",
    "y = (3 * x) + (2 * b)\n",
    "\n",
    "x_placeholder = tf.placeholder(tf.float32, [None], name='x')\n",
    "y_placeholder = tf.placeholder(tf.float32, [None], name='y')\n",
    "m = tf.Variable(tf.truncated_normal([]), name='m')\n",
    "b = tf.Variable(tf.constant(0, dtype=tf.float32), name='b')\n",
    "y_hat = tf.multiply(m, x_placeholder) + b\n",
    "\n",
    "error = tf.reduce_mean(tf.square(y_hat - y_placeholder), name='MSE')\n",
    "train = tf.train.GradientDescentOptimizer(0.05).minimize(error)\n",
    "init = tf.global_variables_initializer()"
   ]
  },
  {
   "cell_type": "markdown",
   "metadata": {},
   "source": [
    "# After adding in summaries"
   ]
  },
  {
   "cell_type": "code",
   "execution_count": 4,
   "metadata": {
    "collapsed": true
   },
   "outputs": [],
   "source": [
    "# Explicitly create and use graph\n",
    "graph = tf.Graph()\n",
    "with graph.as_default():\n",
    "    x = np.random.normal(scale=1.5, size=[20])\n",
    "    b = np.random.normal(scale=2, size=[20])\n",
    "    y = (3 * x) + (2 * b)\n",
    "\n",
    "    x_placeholder = tf.placeholder(tf.float32, [None], name='x')\n",
    "    y_placeholder = tf.placeholder(tf.float32, [None], name='y')\n",
    "    m = tf.Variable(tf.truncated_normal([]), name='m')\n",
    "    b = tf.Variable(tf.constant(0, dtype=tf.float32), name='b')\n",
    "    y_hat = tf.multiply(m, x_placeholder) + b\n",
    "\n",
    "    error = tf.reduce_mean(tf.square(y_hat - y_placeholder), name='MSE')\n",
    "    error_summary = tf.summary.scalar('error', error) # Error summary\n",
    "    \n",
    "    # step counter\n",
    "    global_step = tf.Variable(0, trainable=False, name='global_step')\n",
    "    # Operation to increment step\n",
    "    inc_step = global_step.assign_add(1) \n",
    "\n",
    "    train = tf.train.GradientDescentOptimizer(0.05).minimize(error)\n",
    "    init = tf.global_variables_initializer()\n",
    "    merged = tf.summary.merge_all()"
   ]
  },
  {
   "cell_type": "code",
   "execution_count": 5,
   "metadata": {},
   "outputs": [
    {
     "name": "stdout",
     "output_type": "stream",
     "text": [
      "0:\tMSE: 16.275\n",
      "1:\tMSE: 13.432\n",
      "2:\tMSE: 11.636\n",
      "3:\tMSE: 10.502\n",
      "4:\tMSE: 9.786\n",
      "5:\tMSE: 9.334\n",
      "6:\tMSE: 9.048\n",
      "7:\tMSE: 8.868\n",
      "8:\tMSE: 8.754\n",
      "9:\tMSE: 8.682\n",
      "10:\tMSE: 8.637\n",
      "11:\tMSE: 8.608\n",
      "12:\tMSE: 8.590\n",
      "13:\tMSE: 8.579\n",
      "14:\tMSE: 8.572\n",
      "15:\tMSE: 8.567\n",
      "16:\tMSE: 8.564\n",
      "17:\tMSE: 8.562\n",
      "18:\tMSE: 8.561\n",
      "19:\tMSE: 8.560\n",
      "20:\tMSE: 8.560\n",
      "21:\tMSE: 8.560\n",
      "22:\tMSE: 8.559\n",
      "23:\tMSE: 8.559\n",
      "24:\tMSE: 8.559\n",
      "25:\tMSE: 8.559\n",
      "26:\tMSE: 8.559\n",
      "27:\tMSE: 8.559\n",
      "28:\tMSE: 8.559\n",
      "29:\tMSE: 8.559\n",
      "30:\tMSE: 8.559\n",
      "31:\tMSE: 8.559\n",
      "32:\tMSE: 8.559\n",
      "33:\tMSE: 8.559\n",
      "34:\tMSE: 8.559\n",
      "35:\tMSE: 8.559\n",
      "36:\tMSE: 8.559\n",
      "37:\tMSE: 8.559\n",
      "38:\tMSE: 8.559\n",
      "39:\tMSE: 8.559\n",
      "40:\tMSE: 8.559\n",
      "41:\tMSE: 8.559\n",
      "42:\tMSE: 8.559\n",
      "43:\tMSE: 8.559\n",
      "44:\tMSE: 8.559\n",
      "45:\tMSE: 8.559\n",
      "46:\tMSE: 8.559\n",
      "47:\tMSE: 8.559\n",
      "48:\tMSE: 8.559\n",
      "49:\tMSE: 8.559\n"
     ]
    }
   ],
   "source": [
    "sess = tf.Session(graph=graph) # Pass in graph to use\n",
    "writer = tf.summary.FileWriter(logdir='tensorboard/linear', graph=graph)\n",
    "sess.run(init)\n",
    "\n",
    "for i in range(50):\n",
    "    feed_dict = {\n",
    "        x_placeholder: x,\n",
    "        y_placeholder: y\n",
    "    }\n",
    "    err, summaries, step, _ = sess.run([error, merged, inc_step, train], \n",
    "                                       feed_dict=feed_dict)\n",
    "    print(str(i) + \":\\tMSE: %.3f\" % err)\n",
    "    writer.add_summary(summaries, global_step=step)\n",
    "\n",
    "    \n",
    "sess.close()\n",
    "writer.close()"
   ]
  },
  {
   "cell_type": "markdown",
   "metadata": {},
   "source": [
    "In a console, run the following command:\n",
    "\n",
    "```bash\n",
    "$ tensorboard --logdir='tensorboard/linear' --port=6006\n",
    "```\n",
    "\n",
    "By default, this command will start a TensorBoard server on `localhost:6006`. Once it's running, open up `localhost:6006` in your browser.\n",
    "\n",
    "If you get an error stating that the port is in use, simply change the port number in the command.\n",
    "    "
   ]
  },
  {
   "cell_type": "code",
   "execution_count": null,
   "metadata": {
    "collapsed": true
   },
   "outputs": [],
   "source": []
  },
  {
   "cell_type": "code",
   "execution_count": null,
   "metadata": {
    "collapsed": true
   },
   "outputs": [],
   "source": []
  },
  {
   "cell_type": "code",
   "execution_count": null,
   "metadata": {
    "collapsed": true
   },
   "outputs": [],
   "source": []
  }
 ],
 "metadata": {
  "kernelspec": {
   "display_name": "Python 3",
   "language": "python",
   "name": "python3"
  },
  "language_info": {
   "codemirror_mode": {
    "name": "ipython",
    "version": 3
   },
   "file_extension": ".py",
   "mimetype": "text/x-python",
   "name": "python",
   "nbconvert_exporter": "python",
   "pygments_lexer": "ipython3",
   "version": "3.5.2"
  }
 },
 "nbformat": 4,
 "nbformat_minor": 1
}
