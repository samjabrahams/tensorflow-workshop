{
 "cells": [
  {
   "cell_type": "markdown",
   "metadata": {},
   "source": [
    "# Inception script: a boring but effective solution\n",
    "\n",
    "Google was kind enough to provide a pre-built script to retrain Inception on our own classification tasks automatically. Two things to take away:\n",
    "\n",
    "1. It works really well, and is great for all manner of professional uses\n",
    "2. Doing it automatically is boring and skips some important lessons about doing it on your own.\n",
    "\n",
    "That said, there are definitely important patterns to learn- check out the [official how-to here](https://www.tensorflow.org/versions/master/how_tos/image_retraining/index.html) and the script we're using [here](https://github.com/tensorflow/tensorflow/blob/master/tensorflow/examples/image_retraining/retrain.py)."
   ]
  },
  {
   "cell_type": "code",
   "execution_count": 10,
   "metadata": {
    "collapsed": false,
    "scrolled": true
   },
   "outputs": [
    {
     "name": "stdout",
     "output_type": "stream",
     "text": [
      "Looking for images in 'cats'\n",
      "Looking for images in 'dogs'\n",
      "Looking for images in 'train'\n",
      "No files found\n",
      "W tensorflow/core/framework/op_def_util.cc:332] Op BatchNormWithGlobalNormalization is deprecated. It will cease to work in GraphDef version 9. Use tf.nn.batch_normalization().\n",
      "2016-11-03 13:14:27.126376: Step 0: Train accuracy = 97.0%\n",
      "2016-11-03 13:14:27.126429: Step 0: Cross entropy = 0.616659\n",
      "2016-11-03 13:15:07.958193: Step 0: Validation accuracy = 92.0%\n",
      "2016-11-03 13:18:08.329016: Step 4: Train accuracy = 96.0%\n",
      "2016-11-03 13:18:08.329064: Step 4: Cross entropy = 0.465471\n",
      "2016-11-03 13:18:47.975800: Step 4: Validation accuracy = 99.0%\n",
      "Final test accuracy = 98.0%\n",
      "Converted 2 variables to const ops.\n"
     ]
    }
   ],
   "source": [
    "!python inception_retrain.py --image_dir 'data/dogs_and_cats/' --model_dir 'saved_models' \\\n",
    "    --flip_left_right True --random_crop 50 --random_scale 30 --random_brightness 20 \\\n",
    "    --output_graph 'saved_models/inception_output_graph.pb' \\\n",
    "    --output_labels 'saved_models/inception_output_labels.txt'\\\n",
    "    --summaries_dir 'tensorboard/inception_retrain'\\\n",
    "    --how_many_training_steps 5"
   ]
  },
  {
   "cell_type": "code",
   "execution_count": 11,
   "metadata": {
    "collapsed": false
   },
   "outputs": [
    {
     "name": "stdout",
     "output_type": "stream",
     "text": [
      "W tensorflow/core/framework/op_def_util.cc:332] Op BatchNormWithGlobalNormalization is deprecated. It will cease to work in GraphDef version 9. Use tf.nn.batch_normalization().\n",
      "cats (score = 0.68983)\n",
      "dogs (score = 0.31017)\n"
     ]
    }
   ],
   "source": [
    "!python label_image.py cat_ex.jpg"
   ]
  },
  {
   "cell_type": "code",
   "execution_count": 12,
   "metadata": {
    "collapsed": false
   },
   "outputs": [
    {
     "name": "stdout",
     "output_type": "stream",
     "text": [
      "W tensorflow/core/framework/op_def_util.cc:332] Op BatchNormWithGlobalNormalization is deprecated. It will cease to work in GraphDef version 9. Use tf.nn.batch_normalization().\n",
      "dogs (score = 0.57535)\n",
      "cats (score = 0.42465)\n"
     ]
    }
   ],
   "source": [
    "!python label_image.py dog_ex.jpg"
   ]
  },
  {
   "cell_type": "code",
   "execution_count": null,
   "metadata": {
    "collapsed": true
   },
   "outputs": [],
   "source": []
  }
 ],
 "metadata": {
  "anaconda-cloud": {},
  "kernelspec": {
   "display_name": "Python 2",
   "language": "python",
   "name": "python2"
  },
  "language_info": {
   "codemirror_mode": {
    "name": "ipython",
    "version": 2
   },
   "file_extension": ".py",
   "mimetype": "text/x-python",
   "name": "python",
   "nbconvert_exporter": "python",
   "pygments_lexer": "ipython2",
   "version": "2.7.9"
  }
 },
 "nbformat": 4,
 "nbformat_minor": 0
}
