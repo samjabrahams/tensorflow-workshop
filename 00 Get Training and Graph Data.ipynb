{
 "cells": [
  {
   "cell_type": "markdown",
   "metadata": {},
   "source": [
    "# If you've already downloaded the training files:\n",
    "\n",
    "1. Place the file, named \"train.tar.gz\" into the \"data\" directory. That will prevent this script from re-downloading it\n",
    "2. Run all of the commands in this notebook"
   ]
  },
  {
   "cell_type": "code",
   "execution_count": 12,
   "metadata": {
    "collapsed": true
   },
   "outputs": [],
   "source": [
    "# Python > 3, TensorFlow > 1.0\n",
    "# Modules required for file download and extraction\n",
    "import os\n",
    "import sys\n",
    "import tarfile\n",
    "from six.moves.urllib.request import urlretrieve"
   ]
  },
  {
   "cell_type": "code",
   "execution_count": 13,
   "metadata": {
    "collapsed": true
   },
   "outputs": [],
   "source": [
    "if not os.path.exists('saved_models'):\n",
    "    os.mkdir('saved_models')\n",
    "    \n",
    "if not os.path.exists('data'):\n",
    "    os.mkdir('data')"
   ]
  },
  {
   "cell_type": "code",
   "execution_count": 14,
   "metadata": {
    "collapsed": true
   },
   "outputs": [],
   "source": [
    "def maybe_download(filename, url, directory, force=False):\n",
    "    \"\"\"Download a file if not present.\"\"\"\n",
    "    if force or not os.path.exists(directory + filename):\n",
    "        filename, _ = urlretrieve(url + filename, directory + filename)\n",
    "        print('\\nDownload complete for {}'.format(filename))\n",
    "        return filename\n",
    "    else:\n",
    "        print('File {} already present.'.format(filename))\n",
    "    return directory + filename\n",
    "\n",
    "def maybe_extract(filename, force=False):\n",
    "    root = os.path.splitext(os.path.splitext(filename)[0])[0]  # remove .tar.gz\n",
    "    if os.path.isdir(root) and not force:\n",
    "        # You may override by setting force=True.\n",
    "        print('{} already present - don\\'t need to extract {}.'.format(root, filename))\n",
    "    else:\n",
    "        print('Extracting data for {}. This may take a while. Please wait.'.format(root))\n",
    "        tar = tarfile.open(filename)\n",
    "        sys.stdout.flush()\n",
    "        tar.extractall(root[0:root.rfind('/') + 1])\n",
    "        tar.close()\n",
    "    return root"
   ]
  },
  {
   "cell_type": "code",
   "execution_count": 21,
   "metadata": {},
   "outputs": [
    {
     "name": "stdout",
     "output_type": "stream",
     "text": [
      "File train.tar.gz already present.\n",
      "Extracting data for data/dogs_and_cats/train. This may take a while. Please wait.\n"
     ]
    }
   ],
   "source": [
    "# Directory to download cats/dogs dataset\n",
    "DATASET_DIR = 'data/dogs_and_cats/'\n",
    "\n",
    "if not os.path.exists(DATASET_DIR):\n",
    "    os.mkdir(DATASET_DIR)\n",
    "\n",
    "# Locations to download data:\n",
    "url = 'http://samabrahams.com/data/'\n",
    "\n",
    "cats_dir = DATASET_DIR + 'cats'\n",
    "dogs_dir = DATASET_DIR + 'dogs'\n",
    "\n",
    "if not os.path.exists(cats_dir):\n",
    "    os.mkdir(cats_dir)\n",
    "if not os.path.exists(dogs_dir):\n",
    "    os.mkdir(dogs_dir)\n",
    "\n",
    "# Download cats dogs dataset\n",
    "train_zip_path = maybe_download('train.tar.gz', url, DATASET_DIR)\n",
    "train_folder = maybe_extract(train_zip_path, force = True)"
   ]
  },
  {
   "cell_type": "code",
   "execution_count": 22,
   "metadata": {},
   "outputs": [
    {
     "data": {
      "text/plain": [
       "'data/dogs_and_cats/train'"
      ]
     },
     "execution_count": 22,
     "metadata": {},
     "output_type": "execute_result"
    }
   ],
   "source": [
    "train_folder"
   ]
  },
  {
   "cell_type": "code",
   "execution_count": 23,
   "metadata": {
    "collapsed": true
   },
   "outputs": [],
   "source": [
    "def move_to_folder(train_folder, cats_dir, dogs_dir):\n",
    "    for filepath in os.listdir(train_folder):\n",
    "        if 'cat' in filepath:\n",
    "            os.rename(os.path.join(train_folder, filepath),\n",
    "                      os.path.join(cats_dir, filepath))\n",
    "        elif 'dog' in filepath:\n",
    "            os.rename(os.path.join(train_folder, filepath),\n",
    "                      os.path.join(dogs_dir, filepath))"
   ]
  },
  {
   "cell_type": "code",
   "execution_count": 24,
   "metadata": {},
   "outputs": [],
   "source": [
    "move_to_folder(train_folder, cats_dir, dogs_dir)"
   ]
  },
  {
   "cell_type": "code",
   "execution_count": 25,
   "metadata": {},
   "outputs": [
    {
     "name": "stdout",
     "output_type": "stream",
     "text": [
      "File bvlc_alexnet.npy already present.\n"
     ]
    },
    {
     "data": {
      "text/plain": [
       "'saved_models/bvlc_alexnet.npy'"
      ]
     },
     "execution_count": 25,
     "metadata": {},
     "output_type": "execute_result"
    }
   ],
   "source": [
    "directory = 'saved_models/'\n",
    "url = 'http://www.cs.toronto.edu/~guerzhoy/tf_alexnet/'\n",
    "alexnet_weights = 'bvlc_alexnet.npy'\n",
    "maybe_download(alexnet_weights, url, directory)"
   ]
  },
  {
   "cell_type": "code",
   "execution_count": 20,
   "metadata": {},
   "outputs": [
    {
     "name": "stdout",
     "output_type": "stream",
     "text": [
      "File inception-2015-12-05.tgz already present.\n",
      "Extracting data for saved_models/inception-2015-12-05. This may take a while. Please wait.\n"
     ]
    }
   ],
   "source": [
    "url = 'http://download.tensorflow.org/models/image/imagenet/'\n",
    "inception = 'inception-2015-12-05.tgz'\n",
    "inception_path = maybe_download(inception, url, directory)\n",
    "inception_folder = maybe_extract(inception_path)"
   ]
  },
  {
   "cell_type": "code",
   "execution_count": null,
   "metadata": {
    "collapsed": true
   },
   "outputs": [],
   "source": []
  }
 ],
 "metadata": {
  "kernelspec": {
   "display_name": "Python 3",
   "language": "python",
   "name": "python3"
  },
  "language_info": {
   "codemirror_mode": {
    "name": "ipython",
    "version": 3
   },
   "file_extension": ".py",
   "mimetype": "text/x-python",
   "name": "python",
   "nbconvert_exporter": "python",
   "pygments_lexer": "ipython3",
   "version": "3.5.2"
  }
 },
 "nbformat": 4,
 "nbformat_minor": 1
}
